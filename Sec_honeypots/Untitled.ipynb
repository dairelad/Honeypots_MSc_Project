{
 "cells": [
  {
   "cell_type": "code",
   "execution_count": 5,
   "id": "2e382103",
   "metadata": {},
   "outputs": [],
   "source": [
    "import pandas as pd\n",
    "ssh_log = 'https://github.com/dairelad/Honeypot_data/commit/a5a316f2c050e3769b6aeaa2e34a3ced9d67258e'\n",
    "pd.read"
   ]
  },
  {
   "cell_type": "code",
   "execution_count": 10,
   "id": "2c3761f4",
   "metadata": {},
   "outputs": [],
   "source": [
    "for line in ssh_log:\n",
    "    if \"Found\" in line:\n",
    "        var = line.split(\" [sshd] \")\n",
    "        var2 = var[1].split(\" - \")\n",
    "        ip = var2[0].replace(\"Found \",\"\")\n",
    "        print(ip)\n",
    "        ts = var2[1]\n",
    "        print(ts)"
   ]
  },
  {
   "cell_type": "code",
   "execution_count": null,
   "id": "47ea2b30",
   "metadata": {},
   "outputs": [],
   "source": []
  }
 ],
 "metadata": {
  "kernelspec": {
   "display_name": "Python 3",
   "language": "python",
   "name": "python3"
  },
  "language_info": {
   "codemirror_mode": {
    "name": "ipython",
    "version": 3
   },
   "file_extension": ".py",
   "mimetype": "text/x-python",
   "name": "python",
   "nbconvert_exporter": "python",
   "pygments_lexer": "ipython3",
   "version": "3.8.8"
  }
 },
 "nbformat": 4,
 "nbformat_minor": 5
}
